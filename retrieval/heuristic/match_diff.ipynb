{
 "metadata": {
  "language_info": {
   "codemirror_mode": {
    "name": "ipython",
    "version": 3
   },
   "file_extension": ".py",
   "mimetype": "text/x-python",
   "name": "python",
   "nbconvert_exporter": "python",
   "pygments_lexer": "ipython3",
   "version": "3.8.5"
  },
  "orig_nbformat": 2,
  "kernelspec": {
   "name": "python385jvsc74a57bd01725e4b86ff19338a53d4ef169514e253a1b0f8de876b4a2efd8908323f84c9f",
   "display_name": "Python 3.8.5 64-bit ('pytorch': conda)"
  }
 },
 "nbformat": 4,
 "nbformat_minor": 2,
 "cells": [
  {
   "cell_type": "code",
   "execution_count": 10,
   "metadata": {},
   "outputs": [],
   "source": [
    "from string import punctuation\n",
    "import re\n",
    "import difflib\n",
    "\n",
    "def clean(s):\n",
    "    res = re.sub(r'(\\w)(\\()(\\w)', '\\g<1> \\g<2>\\g<3>', s)\n",
    "    res = re.sub(r\"\\b\\d+\\b\", \"\", res)\n",
    "    res = re.sub(r'(\\w)([),.:;]+)(\\w)', '\\g<1>\\g<2> \\g<3>', res)\n",
    "    res = re.sub(r'(\\w)(\\.\\()(\\w)', '\\g<1>. (\\g<3>', res)\n",
    "    res = re.sub(r'\\s+', ' ', res)\n",
    "    res = res.strip()\n",
    "    return res\n",
    "\n",
    "def stripclean(arr):\n",
    "    res = [s.strip().strip(punctuation) for s in arr]\n",
    "    return ' '.join([i for i in res if i != '']).upper()\n",
    "\n",
    "def dummy(x):\n",
    "    # stupid workaround to deep copy array cause i couldn't get it to work properly\n",
    "    return [s for s in x]"
   ]
  },
  {
   "cell_type": "code",
   "execution_count": 1,
   "metadata": {},
   "outputs": [],
   "source": [
    "import pandas as pd \n",
    "\n",
    "df = pd.read_csv('data-full-digit.csv')"
   ]
  },
  {
   "cell_type": "code",
   "execution_count": 7,
   "metadata": {},
   "outputs": [
    {
     "output_type": "execute_result",
     "data": {
      "text/plain": [
       "'THANH NIÊN P CẨM TH'"
      ]
     },
     "metadata": {},
     "execution_count": 7
    }
   ],
   "source": [
    "raw_txt = '  Thanh     Niên P Cẩm Th '\n",
    "query_txt = stripclean(clean(str(raw_txt)).split())\n",
    "query_txt"
   ]
  },
  {
   "cell_type": "code",
   "execution_count": 11,
   "metadata": {},
   "outputs": [],
   "source": [
    "def distance(p1,p2):\n",
    "    return difflib.SequenceMatcher(None, p1, p2).ratio()\n",
    "dis_list = [(key, distance(query_txt, key)) for key in s.keys()]"
   ]
  },
  {
   "cell_type": "code",
   "execution_count": 14,
   "metadata": {},
   "outputs": [
    {
     "output_type": "stream",
     "name": "stdout",
     "text": [
      "SỐ THANH NIÊN P CẨM THÀNH\n\ntype:ADDRESS, match words: 0.8636363636363636\n"
     ]
    }
   ],
   "source": [
    "dis_list = sorted(dis_list,key=lambda tup: tup[1],reverse=True)[:5]\n",
    "key, score = dis_list[0]\n",
    "print(f'{key}\\n\\ntype:{lbl_dict[s[key]]}, match score: {score}')"
   ]
  },
  {
   "cell_type": "code",
   "execution_count": null,
   "metadata": {},
   "outputs": [],
   "source": []
  }
 ]
}