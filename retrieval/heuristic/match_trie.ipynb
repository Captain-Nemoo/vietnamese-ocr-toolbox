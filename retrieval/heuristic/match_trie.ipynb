{
 "metadata": {
  "language_info": {
   "codemirror_mode": {
    "name": "ipython",
    "version": 3
   },
   "file_extension": ".py",
   "mimetype": "text/x-python",
   "name": "python",
   "nbconvert_exporter": "python",
   "pygments_lexer": "ipython3",
   "version": "3.8.5"
  },
  "orig_nbformat": 2,
  "kernelspec": {
   "name": "python385jvsc74a57bd01725e4b86ff19338a53d4ef169514e253a1b0f8de876b4a2efd8908323f84c9f",
   "display_name": "Python 3.8.5 64-bit ('pytorch': conda)"
  }
 },
 "nbformat": 4,
 "nbformat_minor": 2,
 "cells": [
  {
   "cell_type": "code",
   "execution_count": 39,
   "metadata": {},
   "outputs": [],
   "source": [
    "from string import punctuation\n",
    "import re\n",
    "\n",
    "def clean(s):\n",
    "    res = re.sub(r'(\\w)(\\()(\\w)', '\\g<1> \\g<2>\\g<3>', s)\n",
    "    res = re.sub(r\"\\b\\d+\\b\", \"\", res)\n",
    "    res = re.sub(r'(\\w)([),.:;]+)(\\w)', '\\g<1>\\g<2> \\g<3>', res)\n",
    "    res = re.sub(r'(\\w)(\\.\\()(\\w)', '\\g<1>. (\\g<3>', res)\n",
    "    res = re.sub(r'\\s+', ' ', res)\n",
    "    res = res.strip()\n",
    "    return res\n",
    "\n",
    "def stripclean(arr):\n",
    "    res = [s.strip().strip(punctuation) for s in arr]\n",
    "    return ' '.join([i for i in res if i != '']).upper()\n",
    "\n",
    "def dummy(x):\n",
    "    # stupid workaround to deep copy array cause i couldn't get it to work properly\n",
    "    return [s for s in x]"
   ]
  },
  {
   "cell_type": "code",
   "execution_count": null,
   "metadata": {},
   "outputs": [],
   "source": []
  },
  {
   "cell_type": "code",
   "execution_count": 1,
   "metadata": {},
   "outputs": [],
   "source": [
    "from collections import defaultdict\n",
    "\n",
    "class TrieNode:\n",
    "    def __init__(self):\n",
    "        self.children = defaultdict(TrieNode) \n",
    "        self.smallest_str = None\n",
    "        self.end = None\n",
    "    def __getitem__(self, c):\n",
    "        return self.children[c]\n",
    "class Trie:\n",
    "    def __init__(self):\n",
    "        self.root = TrieNode()\n",
    "    def insert(self, s: str):\n",
    "        node = self.root\n",
    "        for c in s:\n",
    "            node = node[c]\n",
    "            if node.smallest_str is None:\n",
    "                node.smallest_str = s\n",
    "        node.end = s\n",
    "    def get_similar(self, s):\n",
    "        node = self.root\n",
    "        for i, c in enumerate(s):\n",
    "            if c not in node.children:\n",
    "                i -= 1\n",
    "                break\n",
    "            node = node[c]\n",
    "        return (node.smallest_str or node.end, i + 1)\n",
    "\n",
    "\n",
    "class Matcher:\n",
    "    def __init__(self, dic: dict):\n",
    "        self.trie = Trie()\n",
    "        for s in dic:\n",
    "            self.trie.insert(s)\n",
    "\n",
    "    def get_match(self, s: str) -> tuple:\n",
    "        return self.trie.get_similar(s)\n",
    "\n"
   ]
  },
  {
   "cell_type": "code",
   "execution_count": 31,
   "metadata": {},
   "outputs": [],
   "source": [
    "import pandas as pd \n",
    "\n",
    "df = pd.read_csv('data-full-digit.csv')"
   ]
  },
  {
   "cell_type": "code",
   "execution_count": 42,
   "metadata": {},
   "outputs": [],
   "source": [
    "raw_txt = ' Số Thanh     Niên P Cẩm Th '\n",
    "query_txt = stripclean(clean(str(raw_txt)).split())"
   ]
  },
  {
   "cell_type": "code",
   "execution_count": 43,
   "metadata": {},
   "outputs": [
    {
     "output_type": "stream",
     "name": "stdout",
     "text": [
      "SỐ THANH NIÊN P CẨM THÀNH\n\ntype:ADDRESS, match words: 22\n"
     ]
    }
   ],
   "source": [
    "s = {}\n",
    "for id, row in df.iterrows():\n",
    "    s[row.text.upper()] = row.lbl\n",
    "lbl_dict = {0: \"SELLER\", 1: \"ADDRESS\", 2: \"TIMESTAMP\", 3: \"TOTAL_COST\"}\n",
    "\n",
    "matcher = Matcher(s)\n",
    "key, score = matcher.get_match(query_txt)\n",
    "print(f'{key}\\n\\ntype:{lbl_dict[s[key]]}, match words: {score}')"
   ]
  }
 ]
}