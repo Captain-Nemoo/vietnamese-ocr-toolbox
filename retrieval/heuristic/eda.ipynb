{
 "metadata": {
  "language_info": {
   "codemirror_mode": {
    "name": "ipython",
    "version": 3
   },
   "file_extension": ".py",
   "mimetype": "text/x-python",
   "name": "python",
   "nbconvert_exporter": "python",
   "pygments_lexer": "ipython3",
   "version": "3.8.5"
  },
  "orig_nbformat": 2,
  "kernelspec": {
   "name": "python385jvsc74a57bd01725e4b86ff19338a53d4ef169514e253a1b0f8de876b4a2efd8908323f84c9f",
   "display_name": "Python 3.8.5 64-bit ('pytorch': conda)"
  }
 },
 "nbformat": 4,
 "nbformat_minor": 2,
 "cells": [
  {
   "cell_type": "code",
   "execution_count": 43,
   "metadata": {},
   "outputs": [],
   "source": [
    "from string import punctuation\n",
    "import re\n",
    "\n",
    "def clean(s):\n",
    "    res = re.sub(r'(\\w)(\\()(\\w)', '\\g<1> \\g<2>\\g<3>', s)\n",
    "    res = re.sub(r\"\\b\\d+\\b\", \"\", res)\n",
    "    res = re.sub(r'(\\w)([),.:;]+)(\\w)', '\\g<1>\\g<2> \\g<3>', res)\n",
    "    res = re.sub(r'(\\w)(\\.\\()(\\w)', '\\g<1>. (\\g<3>', res)\n",
    "    res = re.sub(r'\\s+', ' ', res)\n",
    "    res = res.strip()\n",
    "    return res\n",
    "\n",
    "def stripclean(arr):\n",
    "    res = [s.strip().strip(punctuation) for s in arr]\n",
    "    return ' '.join([i for i in res if i != ''])\n",
    "\n",
    "def dummy(x):\n",
    "    # stupid workaround to deep copy array cause i couldn't get it to work properly\n",
    "    return [s for s in x]"
   ]
  },
  {
   "cell_type": "code",
   "execution_count": 1,
   "metadata": {},
   "outputs": [],
   "source": [
    "def diff_cost(orig, label):\n",
    "    if not label.startswith(orig):\n",
    "        return float('inf')\n",
    "    return len(label) - len(orig)"
   ]
  },
  {
   "cell_type": "code",
   "execution_count": 12,
   "metadata": {},
   "outputs": [
    {
     "output_type": "execute_result",
     "data": {
      "text/plain": [
       "array(['Ngày : 11/08/2020 08:06', 'Ngày bán: 15/08/2020 11:41',\n",
       "       'Ngày: 21/05/2020', ..., 'Ngày bán: 11/08/2020 19:07',\n",
       "       'Ngày bán: 14/08/2020 07:56', '07/09/2020 21:05:14'], dtype=object)"
      ]
     },
     "metadata": {},
     "execution_count": 12
    }
   ],
   "source": [
    "len(df[df['lbl']==0]['text'].unique())\n",
    "(df[df['lbl']==2]['text'].unique())"
   ]
  },
  {
   "cell_type": "code",
   "execution_count": 63,
   "metadata": {},
   "outputs": [
    {
     "output_type": "execute_result",
     "data": {
      "text/plain": [
       "                      text  lbl\n",
       "0            MINIMART ANAN    0\n",
       "1  Chợ Sủi Phú Thị Gia Lâm    1\n",
       "2  Ngày : 11/08/2020 08:06    2\n",
       "3               Tổng tiền:    3\n",
       "4                   74,000    3"
      ],
      "text/html": "<div>\n<style scoped>\n    .dataframe tbody tr th:only-of-type {\n        vertical-align: middle;\n    }\n\n    .dataframe tbody tr th {\n        vertical-align: top;\n    }\n\n    .dataframe thead th {\n        text-align: right;\n    }\n</style>\n<table border=\"1\" class=\"dataframe\">\n  <thead>\n    <tr style=\"text-align: right;\">\n      <th></th>\n      <th>text</th>\n      <th>lbl</th>\n    </tr>\n  </thead>\n  <tbody>\n    <tr>\n      <th>0</th>\n      <td>MINIMART ANAN</td>\n      <td>0</td>\n    </tr>\n    <tr>\n      <th>1</th>\n      <td>Chợ Sủi Phú Thị Gia Lâm</td>\n      <td>1</td>\n    </tr>\n    <tr>\n      <th>2</th>\n      <td>Ngày : 11/08/2020 08:06</td>\n      <td>2</td>\n    </tr>\n    <tr>\n      <th>3</th>\n      <td>Tổng tiền:</td>\n      <td>3</td>\n    </tr>\n    <tr>\n      <th>4</th>\n      <td>74,000</td>\n      <td>3</td>\n    </tr>\n  </tbody>\n</table>\n</div>"
     },
     "metadata": {},
     "execution_count": 63
    }
   ],
   "source": [
    "import pandas as pd \n",
    "\n",
    "df = pd.read_csv('data-full.csv')\n",
    "df.head()"
   ]
  },
  {
   "cell_type": "code",
   "execution_count": 65,
   "metadata": {},
   "outputs": [
    {
     "output_type": "execute_result",
     "data": {
      "text/plain": [
       "                                     text  lbl\n",
       "0                           MINIMART ANAN    0\n",
       "1                 Chợ Sủi Phú Thị Gia Lâm    1\n",
       "2                                    Ngày    2\n",
       "3                               Tổng tiền    3\n",
       "4                                            3\n",
       "...                                   ...  ...\n",
       "6576          CTY TNHH EB BINH DUONG EBBD    0\n",
       "6577  P Đong Hoa TX Di An Tỉnh Bình Duong    1\n",
       "6578                                         2\n",
       "6579                            TONG CONG    3\n",
       "6580                                         3\n",
       "\n",
       "[6581 rows x 2 columns]"
      ],
      "text/html": "<div>\n<style scoped>\n    .dataframe tbody tr th:only-of-type {\n        vertical-align: middle;\n    }\n\n    .dataframe tbody tr th {\n        vertical-align: top;\n    }\n\n    .dataframe thead th {\n        text-align: right;\n    }\n</style>\n<table border=\"1\" class=\"dataframe\">\n  <thead>\n    <tr style=\"text-align: right;\">\n      <th></th>\n      <th>text</th>\n      <th>lbl</th>\n    </tr>\n  </thead>\n  <tbody>\n    <tr>\n      <th>0</th>\n      <td>MINIMART ANAN</td>\n      <td>0</td>\n    </tr>\n    <tr>\n      <th>1</th>\n      <td>Chợ Sủi Phú Thị Gia Lâm</td>\n      <td>1</td>\n    </tr>\n    <tr>\n      <th>2</th>\n      <td>Ngày</td>\n      <td>2</td>\n    </tr>\n    <tr>\n      <th>3</th>\n      <td>Tổng tiền</td>\n      <td>3</td>\n    </tr>\n    <tr>\n      <th>4</th>\n      <td></td>\n      <td>3</td>\n    </tr>\n    <tr>\n      <th>...</th>\n      <td>...</td>\n      <td>...</td>\n    </tr>\n    <tr>\n      <th>6576</th>\n      <td>CTY TNHH EB BINH DUONG EBBD</td>\n      <td>0</td>\n    </tr>\n    <tr>\n      <th>6577</th>\n      <td>P Đong Hoa TX Di An Tỉnh Bình Duong</td>\n      <td>1</td>\n    </tr>\n    <tr>\n      <th>6578</th>\n      <td></td>\n      <td>2</td>\n    </tr>\n    <tr>\n      <th>6579</th>\n      <td>TONG CONG</td>\n      <td>3</td>\n    </tr>\n    <tr>\n      <th>6580</th>\n      <td></td>\n      <td>3</td>\n    </tr>\n  </tbody>\n</table>\n<p>6581 rows × 2 columns</p>\n</div>"
     },
     "metadata": {},
     "execution_count": 65
    }
   ],
   "source": [
    "df['text'] = df[df['text']!=1]['text'].apply(clean).str.split().apply(stripclean)\n",
    "df"
   ]
  },
  {
   "cell_type": "code",
   "execution_count": 66,
   "metadata": {},
   "outputs": [
    {
     "output_type": "execute_result",
     "data": {
      "text/plain": [
       "                                     text  lbl\n",
       "0                           MINIMART ANAN    0\n",
       "1                 Chợ Sủi Phú Thị Gia Lâm    1\n",
       "2                                    Ngày    2\n",
       "3                               Tổng tiền    3\n",
       "5                             VinCommerce    0\n",
       "...                                   ...  ...\n",
       "6573                HỒNG TIẾN PHẢI T TOÁN    3\n",
       "6575                          BIG C DI AN    0\n",
       "6576          CTY TNHH EB BINH DUONG EBBD    0\n",
       "6577  P Đong Hoa TX Di An Tỉnh Bình Duong    1\n",
       "6579                            TONG CONG    3\n",
       "\n",
       "[5515 rows x 2 columns]"
      ],
      "text/html": "<div>\n<style scoped>\n    .dataframe tbody tr th:only-of-type {\n        vertical-align: middle;\n    }\n\n    .dataframe tbody tr th {\n        vertical-align: top;\n    }\n\n    .dataframe thead th {\n        text-align: right;\n    }\n</style>\n<table border=\"1\" class=\"dataframe\">\n  <thead>\n    <tr style=\"text-align: right;\">\n      <th></th>\n      <th>text</th>\n      <th>lbl</th>\n    </tr>\n  </thead>\n  <tbody>\n    <tr>\n      <th>0</th>\n      <td>MINIMART ANAN</td>\n      <td>0</td>\n    </tr>\n    <tr>\n      <th>1</th>\n      <td>Chợ Sủi Phú Thị Gia Lâm</td>\n      <td>1</td>\n    </tr>\n    <tr>\n      <th>2</th>\n      <td>Ngày</td>\n      <td>2</td>\n    </tr>\n    <tr>\n      <th>3</th>\n      <td>Tổng tiền</td>\n      <td>3</td>\n    </tr>\n    <tr>\n      <th>5</th>\n      <td>VinCommerce</td>\n      <td>0</td>\n    </tr>\n    <tr>\n      <th>...</th>\n      <td>...</td>\n      <td>...</td>\n    </tr>\n    <tr>\n      <th>6573</th>\n      <td>HỒNG TIẾN PHẢI T TOÁN</td>\n      <td>3</td>\n    </tr>\n    <tr>\n      <th>6575</th>\n      <td>BIG C DI AN</td>\n      <td>0</td>\n    </tr>\n    <tr>\n      <th>6576</th>\n      <td>CTY TNHH EB BINH DUONG EBBD</td>\n      <td>0</td>\n    </tr>\n    <tr>\n      <th>6577</th>\n      <td>P Đong Hoa TX Di An Tỉnh Bình Duong</td>\n      <td>1</td>\n    </tr>\n    <tr>\n      <th>6579</th>\n      <td>TONG CONG</td>\n      <td>3</td>\n    </tr>\n  </tbody>\n</table>\n<p>5515 rows × 2 columns</p>\n</div>"
     },
     "metadata": {},
     "execution_count": 66
    }
   ],
   "source": [
    "df = df[df['text']!='']\n",
    "df"
   ]
  },
  {
   "cell_type": "code",
   "execution_count": 68,
   "metadata": {},
   "outputs": [
    {
     "output_type": "execute_result",
     "data": {
      "text/plain": [
       "                                     text  lbl\n",
       "0                           MINIMART ANAN    0\n",
       "1                 Chợ Sủi Phú Thị Gia Lâm    1\n",
       "2                                    Ngày    2\n",
       "3                               Tổng tiền    3\n",
       "5                             VinCommerce    0\n",
       "...                                   ...  ...\n",
       "6541                                  VHa    0\n",
       "6569                      VM QNH Trần phú    1\n",
       "6575                          BIG C DI AN    0\n",
       "6576          CTY TNHH EB BINH DUONG EBBD    0\n",
       "6577  P Đong Hoa TX Di An Tỉnh Bình Duong    1\n",
       "\n",
       "[794 rows x 2 columns]"
      ],
      "text/html": "<div>\n<style scoped>\n    .dataframe tbody tr th:only-of-type {\n        vertical-align: middle;\n    }\n\n    .dataframe tbody tr th {\n        vertical-align: top;\n    }\n\n    .dataframe thead th {\n        text-align: right;\n    }\n</style>\n<table border=\"1\" class=\"dataframe\">\n  <thead>\n    <tr style=\"text-align: right;\">\n      <th></th>\n      <th>text</th>\n      <th>lbl</th>\n    </tr>\n  </thead>\n  <tbody>\n    <tr>\n      <th>0</th>\n      <td>MINIMART ANAN</td>\n      <td>0</td>\n    </tr>\n    <tr>\n      <th>1</th>\n      <td>Chợ Sủi Phú Thị Gia Lâm</td>\n      <td>1</td>\n    </tr>\n    <tr>\n      <th>2</th>\n      <td>Ngày</td>\n      <td>2</td>\n    </tr>\n    <tr>\n      <th>3</th>\n      <td>Tổng tiền</td>\n      <td>3</td>\n    </tr>\n    <tr>\n      <th>5</th>\n      <td>VinCommerce</td>\n      <td>0</td>\n    </tr>\n    <tr>\n      <th>...</th>\n      <td>...</td>\n      <td>...</td>\n    </tr>\n    <tr>\n      <th>6541</th>\n      <td>VHa</td>\n      <td>0</td>\n    </tr>\n    <tr>\n      <th>6569</th>\n      <td>VM QNH Trần phú</td>\n      <td>1</td>\n    </tr>\n    <tr>\n      <th>6575</th>\n      <td>BIG C DI AN</td>\n      <td>0</td>\n    </tr>\n    <tr>\n      <th>6576</th>\n      <td>CTY TNHH EB BINH DUONG EBBD</td>\n      <td>0</td>\n    </tr>\n    <tr>\n      <th>6577</th>\n      <td>P Đong Hoa TX Di An Tỉnh Bình Duong</td>\n      <td>1</td>\n    </tr>\n  </tbody>\n</table>\n<p>794 rows × 2 columns</p>\n</div>"
     },
     "metadata": {},
     "execution_count": 68
    }
   ],
   "source": [
    "df = df.drop_duplicates(subset=['text'])\n",
    "df"
   ]
  },
  {
   "cell_type": "code",
   "execution_count": 69,
   "metadata": {},
   "outputs": [],
   "source": [
    "df.to_csv('data-full-digit.csv',index=False)"
   ]
  }
 ]
}